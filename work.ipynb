{
 "cells": [
  {
   "attachments": {},
   "cell_type": "markdown",
   "metadata": {},
   "source": [
    "导入库"
   ]
  },
  {
   "cell_type": "code",
   "execution_count": 1,
   "metadata": {},
   "outputs": [],
   "source": [
    "import numpy as np\n",
    "import pandas as pd\n",
    "from mlxtend.frequent_patterns import apriori  # 生成频繁项集\n",
    "from mlxtend.frequent_patterns import association_rules  # 生成强关联规则"
   ]
  },
  {
   "attachments": {},
   "cell_type": "markdown",
   "metadata": {},
   "source": [
    "定义数据预处理函数，attr_dict存储所有网页种类，user_case存储所有样本"
   ]
  },
  {
   "cell_type": "code",
   "execution_count": 23,
   "metadata": {},
   "outputs": [],
   "source": [
    "path = ['anonymous-msweb.data','anonymous-msweb.test']\n",
    "attr_dict = {}\n",
    "user_case = []\n",
    "def Getdata(path):\n",
    "    c = []\n",
    "    with open(path, 'r+') as path:\n",
    "        for line in path:\n",
    "            token = line.split(',')\n",
    "            if token[0] == 'A':\n",
    "                attr_dict[token[1]] = ''.join((token[3][1:-1],token[4][1:-2]))\n",
    "            elif token[0] == 'C':\n",
    "                user_case.append(c)\n",
    "                c = []\n",
    "            elif token[0] == 'V':\n",
    "                c.append(attr_dict[token[1]])\n",
    "    del user_case[0]\n",
    "    return user_case"
   ]
  },
  {
   "attachments": {},
   "cell_type": "markdown",
   "metadata": {},
   "source": [
    "获取处理后数据"
   ]
  },
  {
   "cell_type": "code",
   "execution_count": 24,
   "metadata": {},
   "outputs": [
    {
     "name": "stdout",
     "output_type": "stream",
     "text": [
      "['regwiz/regwiz', 'Support Desktop/support', 'End User Produced View/athome']\n",
      "['Excel/msexcel', 'MS Excel/excel', 'Products /products', 'isapi/isapi', 'MS PowerPoint/mspowerpoint']\n"
     ]
    }
   ],
   "source": [
    "dataSet = Getdata(path[0])\n",
    "print(dataSet[0])\n",
    "print(dataSet[10])"
   ]
  },
  {
   "cell_type": "code",
   "execution_count": 30,
   "metadata": {},
   "outputs": [
    {
     "name": "stdout",
     "output_type": "stream",
     "text": [
      "{'International AutoRoute/autoroute': 0, 'library/library': 0, 'Master Chef Product Information/masterchef': 0, 'Central America/centroam': 0, 'For Developers Only Info/developer': 45, 'Multimedia Golf/msgolf': 1, 'Microsoft Consulting/msconsult': 3, 'home/home': 2, 'Reference Support/referencesupport': 11, 'Microsoft Magazine/magazine': 63, 'MS Access Support/msaccesssupport': 105, 'Visual Fox Pro Support/vfoxprosupport': 20, 'Visual Test Support/vtestsupport': 3, 'Benelux Region/benelux': 18, 'controls/controls': 1, 'Sidewalk/sidewalk': 52, 'Visual FoxPro/vfoxpro': 97, 'Microsoft.com Search/search': 8463, 'MS PowerPoint News/powerpoint': 195, 'Netherlands (Holland)/netherlands': 118, 'Picture It/pictureit': 18, 'Microsoft Financial Forum/msft': 86, 'Norway/norge': 42, 'Internet Site Construction for Developers/sitebuilder': 3220, 'Corporation Information/corpinfo': 365, 'Virtual Reality Markup Language/vrml': 30, 'MS Publisher Support/publishersupport': 18, 'Hardware Supprt/hardwaresupport': 24, 'Customer Guides/business': 2, 'MS Office/msoffice': 574, 'Knowledge Base/kb': 2968, 'Excel Development/exceldev': 4, 'SQL Server/sql': 172, 'MS Garden/msgarden': 4, 'MS Merchant/merchant': 47, 'MS Project Support/msprojectsupport': 6, 'Visual C/visualc': 380, 'MS Office News/msofc': 11, 'partner/partner': 1, 'Bookshelf/bookshelf': 0, 'Jakarta/visualj': 670, 'Encarta/encarta': 0, 'Windows Hardware Testing/hwtest': 72, 'Advanced Technology/advtech': 4, 'Office Free Stuff News/off97cat': 8, 'Exchange/exchange': 338, 'Chile/chile': 4, 'Windows NT Workstation/ntworkstation': 584, 'Internet Development/intdev': 507, 'promo/promo': 269, 'Developing for Global Markets/globaldev': 10, 'World Wide Offices/worldwide': 25, 'MS Schedule+/msscheduleplus': 30, 'ie40/ie40': 1, 'Korea/korea': 94, 'Visual Test/vtest': 13, 'NT Server Support/ntserversupport': 462, 'Free Downloads/msdownload': 10835, 'MS Word News/word': 842, 'Windows Hardware Development/hwdev': 69, 'MS Interactive Music Control/music': 2, 'Wine Guide/wineguide': 3, 'MS Site Builder Workshop/activeplatform': 324, 'Java Strategy and Info/java': 323, 'FrontPage Support/frontpagesupport': 69, 'Microsoft Home Essentials/homeessentials': 118, 'MS Money Support/msmoneysupport': 23, 'Thailand/thailand': 11, 'Anti Piracy Information/piracy': 7, 'IT Technical Information/syspro': 395, 'Windows 32 bit developer/win32dev': 124, 'SP Referral (ART)/referral': 672, 'NT Workstation Support/ntwkssupport': 444, 'Open Type/opentype': 25, 'ODBC Development/odbc': 38, 'Russia/rus': 52, 'MS in K-12 Education/k-12': 18, 'Finland/finland': 29, 'Support Desktop/support': 4451, 'Connecting Small Business/smallbiz': 224, 'Poland/poland': 38, 'China/china': 26, 'Developer Magazine/mind': 33, 'Interactive Media Technologies/imedia': 90, 'Microsoft Home/mshome': 14, 'MSHome Kids Stuff/kids': 264, 'NetShow for PowerPoint/stream': 1, 'Site Builder Workshop/workshoop': 60, 'VBScript Development/vbscript': 198, 'Uruguay/uruguay': 4, 'Master Marketing Calendar/events': 43, 'Office Free Stuff/officefreestuff': 728, 'MS PowerPoint/mspowerpoint': 111, 'Microsoft User Group Program/mindshare': 13, 'Developer Workshop/workshop': 1500, 'MS Store Logo Merchandise/logostore': 26, 'vbscripts/vbscripts': 1, 'SMSMGT Support/smsmgmtsupport': 16, 'feedback/feedback': 1, 'Internet Information Server/iis': 521, 'Colombia/colombia': 11, 'FrontPage/frontpage': 548, 'Kids Support/kidssupport': 12, 'New Zealand/nz': 10, 'IIS Support/infoservsupport': 48, 'IE Support/iesupport': 636, 'SQL Support/sqlsupport': 32, 'Windows NT Developer Support/win32devsupport': 19, 'Europe/europe': 36, 'Switching from Competitive Products/switch': 1, 'Canada/canada': 128, 'South Africa/southafrica': 19, 'Middle East/middleeast': 13, 'MS Financial Services/finserv': 3, 'Repository/repository': 48, 'For Developers Only/devonly': 98, 'Educational Services & Programs/services': 2, 'Support Network Program Information/supportnet': 343, 'Taiwan/taiwan': 204, 'Mexico/mexico': 33, 'MS Schedule+ Support/msschedplussupport': 14, 'MS Excel Support/msexcelsupport': 57, \"Web Site Builder's Gallery/gallery\": 2123, 'Visual C Support/visualcsupport': 36, 'Powered by BackOffice/powered': 75, 'javascript/javascript': 1, 'Mac Office Support/macofficesupport': 23, 'MS Word/msword': 391, 'Denmark/danmark': 55, 'Java Script Development/jscript': 63, 'Sales Information (infobase)/salesinfo': 93, 'Music Producer/musicproducer': 82, 'MS Solutions Framework/msf': 1, 'security./security.': 1, 'WorldWide Offices - US Districts/usa': 181, 'Microsoft Solution Providers/msp': 79, 'Developer Days/devdays': 3, 'Access Development/accessdev': 215, 'MS Excel/excel': 287, 'Windows CE/windowsce': 227, 'Channel Resources/channel_resources': 96, 'Works Support/workssupport': 16, 'Visual Basic Support/vbasicsupport': 61, 'Switzerland/switzerland': 31, 'VBA Development/vba': 65, 'Fortran Support/fortransupport': 2, 'Product Catalog/catalog': 102, 'Spain/spain': 191, 'Visual J++ Support/visualjsupport': 7, 'Brazil/brasil': 121, 'Macintosh Office/macoffice': 106, 'Message Queue Server/msmq': 3, 'mdn/mdn': 1, 'Volume Purchasing Options/select': 29, 'Mail Support/mailsupport': 21, 'Belgium/belgium': 45, 'MS Office Development/officedev': 179, 'Windows Family of OSs/windows': 4628, 'Microsoft Press/mspress': 214, 'MS Training Evaluation/onlineeval': 9, 'ActiveX Technology Development/activex': 602, 'MS Project/project': 67, 'Executive Computing/cio': 120, 'Job Listings for Pre-Grads/college': 46, 'news/news': 0, 'Solutions in Action/sia': 3, 'developr/developr': 1, 'SiteBuilder Network Specs & Standards/standards': 4, 'Transaction Server/transaction': 41, 'Windows95 Support/windowssupport': 1791, 'Systems Management Server/smsmgmt': 49, 'MS Office Support/msofficesupport': 155, 'Training/train_cert': 716, 'sports/sports': 276, 'misc/misc': 135, 'softlib/softlib': 1, 'Germany/germany': 372, 'MS PowerPoint Support/mspowerpointsupport': 21, 'MS Works/works': 36, 'MS Usability Group/usability': 4, 'Developer Newswire/devwire': 4, 'Exchange Trial/trial': 1, 'Peru/peru': 3, 'Israel/israel': 34, 'Czech Republic/cze': 16, 'Industry Marketing Information (Vertical)/industry': 222, 'Service Advantage/servad': 48, 'Outlook Development/outlookdev': 44, 'NetMeeting/netmeeting': 474, 'MS Access/access': 241, \"MS's Complete Do It Yourself Guide/diyguide\": 2, 'About Microsoft /mscorp': 123, 'Sweden/sverige': 258, 'Windows 95/windows95': 1160, 'Argentina/argentina': 32, 'IntelliMouse/intellimouse': 1, 'BackOffice/backoffice': 162, 'Developer Media Development/mediadev': 168, 'OLE Development/oledev': 93, 'Softimage /softimage': 1, 'Exchange Support/exchangesupport': 86, 'MS Money Information/moneyzone': 148, 'Australia/australia': 136, 'MS Publisher/publisher': 210, 'Visual Studio/vstudio': 281, 'Job Openings/jobs': 396, 'MS Hardware/hardware': 38, 'France/france': 183, 'Venezuela/venezuela': 8, 'MS North Africa/northafrica': 0, 'Excel/msexcel': 79, 'Activate the Internet Conference/devmovies': 0, 'Products /products': 5108, 'Visual Basic/vbasic': 698, 'Media Manager/mediamanager': 27, 'For Developers Only News/devnews': 36, 'Management/management': 4, 'End User Produced View/athome': 749, 'Corporate Customers/corporate_solutions': 3, 'UK/uk': 186, 'msdownload./msdownload.': 2, 'Corporate Desktop Evaluation/organizations': 759, 'Professional Developers Series/devvideos': 5, 'Slovenija/slovenija': 9, 'Developer Media Games/gamesdev': 10, 'OutLook/outlook': 237, 'Sidewinder/sidewinder': 9, 'Latin America Region/latam': 56, 'Licenses and Piracy/licenses': 2, 'Visual InterDev/vinterdev': 128, 'MS Project/msproject': 44, 'Slovakia/slovakia': 11, 'Office Reference/officereference': 157, 'SiteBuilder Network Membership/sbnmember': 1110, 'Authorized Technical Education Center Program/atec': 16, 'OEM/oem': 22, 'MS TeamManager/teammanager': 47, 'International IE content/ie_intl': 865, 'Community Affairs/giving': 3, 'Cinemainia/cinemania': 1, 'NetShow/netshow': 132, 'Internet News/internet': 51, 'Mastering Series/mastering': 46, 'Games Support/gamessupport': 107, 'TechNet (World Wide Web Edition)/technet': 59, 'MS Office Info/office': 1506, 'Internet Information Server News/infoserv': 93, 'Portugal/portugal': 15, 'Visual Source Safe/ssafe': 36, 'Professional Developer Conference/pdc': 1, 'Caribbean/caribbean': 5, 'Internet Security Framework/security': 181, 'Open Financial Connectivity/ofc': 2, 'MS Word Development/worddev': 5, 'MS Proxy Server/proxy': 189, 'SNA Server/sna': 24, 'Turkey/turkey': 9, 'Intranet Strategy/intranet': 113, 'Microsoft OLE DB/oledb': 14, 'MS Partner Web/se_partners': 4, 'Games/games': 1446, 'Microsoft OnLine Institute/moli': 3, 'MS Schedule+ News/scheduleplus': 86, 'MS in Higer Education/hed': 2, 'MS Access News/msaccess': 141, 'Developer Network/msdn': 1087, 'Hong Kong/hk': 35, 'N. American Automap/automap': 187, 'regwiz/regwiz': 912, 'MS Word Support/mswordsupport': 115, 'Internet Control Pack /icp': 12, 'Ireland/ireland': 13, 'ie3/ie3': 1, 'Typography Site/truetype': 325, 'Italy/italy': 167, 'Microsoft Mail/mail': 16, 'India/india': 9, 'Advanced Data Connector/adc': 12, 'Clip Gallery Live/clipgallerylive': 132, 'Microsoft TV Program Information/mstv': 10, 'Hungary/hun': 15, 'ImageComposer/imagecomposer': 199, 'Internet Service Providers/isp': 345, 'Internet Explorer/ie': 9383, 'Source Safe Support/ssafesupport': 3, 'mdsn/mdsn': 1, 'ActiveX Data Objects/ado': 7, 'isapi/isapi': 5330, 'Office Developer Support/offdevsupport': 25, 'Corporate Advertising Content/ads': 4, 'Windows NT Server/ntserver': 1115, 'Fortran/fortran': 7, 'MS in Education/education': 291, 'SNA Support/snasupport': 5}\n"
     ]
    },
    {
     "data": {
      "image/png": "[encoded data removed]",
      "text/plain": [
       "<Figure size 640x480 with 1 Axes>"
      ]
     },
     "metadata": {},
     "output_type": "display_data"
    }
   ],
   "source": [
    "import matplotlib.pylab as plt\n",
    "count = {}\n",
    "for key, value in attr_dict.items():\n",
    "    count[value] = 0\n",
    "for i in dataSet:\n",
    "    for j in i:\n",
    "        count[j] += 1\n",
    "print(count)\n",
    "plt.bar(list(count.keys()),list(count.values()))\n",
    "plt.show()"
   ]
  },
  {
   "attachments": {},
   "cell_type": "markdown",
   "metadata": {},
   "source": [
    "大部分网页的访问量很低，甚至没有被访问到，总体在数据上呈现出的分布是少量网页被大量访问。"
   ]
  },
  {
   "cell_type": "code",
   "execution_count": 37,
   "metadata": {},
   "outputs": [
    {
     "name": "stdout",
     "output_type": "stream",
     "text": [
      "[('Free Downloads/msdownload', 10835), ('Internet Explorer/ie', 9383), ('Microsoft.com Search/search', 8463), ('isapi/isapi', 5330), ('Products /products', 5108), ('Windows Family of OSs/windows', 4628), ('Support Desktop/support', 4451), ('Internet Site Construction for Developers/sitebuilder', 3220), ('Knowledge Base/kb', 2968), (\"Web Site Builder's Gallery/gallery\", 2123)]\n"
     ]
    }
   ],
   "source": [
    "sort_c = sorted(count.items(), key=lambda x:x[1],reverse=True)\n",
    "print(sort_c[0:10])"
   ]
  },
  {
   "attachments": {},
   "cell_type": "markdown",
   "metadata": {},
   "source": [
    "可以看到，‘Free Downloads/msdownload’被用户浏览的次数最高，为10835，第十位是‘Web Site Builder's Gallery/gallery’，浏览次数为2123。"
   ]
  },
  {
   "attachments": {},
   "cell_type": "markdown",
   "metadata": {},
   "source": [
    "转换原数据到0-1矩阵"
   ]
  },
  {
   "cell_type": "code",
   "execution_count": 25,
   "metadata": {},
   "outputs": [],
   "source": [
    "column_list = []\n",
    "for var in dataSet:\n",
    "    column_list = set(column_list) | set(var)\n",
    "data = pd.DataFrame(np.zeros((len(dataSet), 285)), columns=column_list)\n",
    "for i in range(len(dataSet)):\n",
    "    for j in dataSet[i]:\n",
    "        data.loc[i, j] += 1"
   ]
  },
  {
   "attachments": {},
   "cell_type": "markdown",
   "metadata": {},
   "source": [
    "用apriori算法计算数据"
   ]
  },
  {
   "cell_type": "code",
   "execution_count": 26,
   "metadata": {},
   "outputs": [
    {
     "name": "stderr",
     "output_type": "stream",
     "text": [
      "d:\\IDE\\Anaconda3\\lib\\site-packages\\mlxtend\\frequent_patterns\\fpcommon.py:110: DeprecationWarning: DataFrames with non-bool types result in worse computationalperformance and their support might be discontinued in the future.Please use a DataFrame with bool type\n",
      "  warnings.warn(\n"
     ]
    },
    {
     "name": "stdout",
     "output_type": "stream",
     "text": [
      "     support                                           itemsets\n",
      "0   0.044207                                      (Games/games)\n",
      "1   0.023204       (Corporate Desktop Evaluation/organizations)\n",
      "2   0.027881                                    (regwiz/regwiz)\n",
      "3   0.020483                                  (Jakarta/visualj)\n",
      "4   0.021339                              (Visual Basic/vbasic)\n",
      "..       ...                                                ...\n",
      "74  0.023938  (Free Downloads/msdownload, Internet Explorer/...\n",
      "75  0.031733  (Free Downloads/msdownload, Internet Explorer/...\n",
      "76  0.022806  (Knowledge Base/kb, Microsoft.com Search/searc...\n",
      "77  0.025191  (Free Downloads/msdownload, Microsoft.com Sear...\n",
      "78  0.020361  (Free Downloads/msdownload, Windows95 Support/...\n",
      "\n",
      "[79 rows x 2 columns]\n"
     ]
    }
   ],
   "source": [
    "frequent_itemsets = apriori(data, min_support=0.02, use_colnames=True)\n",
    "print(pd.DataFrame(frequent_itemsets))\n",
    "pd.DataFrame(frequent_itemsets).to_csv('frequent_itemsets.csv')"
   ]
  },
  {
   "attachments": {},
   "cell_type": "markdown",
   "metadata": {},
   "source": [
    "生成关联规则"
   ]
  },
  {
   "cell_type": "code",
   "execution_count": 27,
   "metadata": {},
   "outputs": [
    {
     "name": "stdout",
     "output_type": "stream",
     "text": [
      "                                          antecedents  \\\n",
      "0   (Internet Site Construction for Developers/sit...   \n",
      "1                (Web Site Builder's Gallery/gallery)   \n",
      "2                                       (isapi/isapi)   \n",
      "3                           (Support Desktop/support)   \n",
      "4                                       (isapi/isapi)   \n",
      "..                                                ...   \n",
      "65  (Free Downloads/msdownload, Windows95 Support/...   \n",
      "66    (Windows95 Support/windowssupport, isapi/isapi)   \n",
      "67  (Windows95 Support/windowssupport, Windows Fam...   \n",
      "68       (isapi/isapi, Windows Family of OSs/windows)   \n",
      "69                 (Windows95 Support/windowssupport)   \n",
      "\n",
      "                                          consequents  antecedent support  \\\n",
      "0                (Web Site Builder's Gallery/gallery)            0.098441   \n",
      "1   (Internet Site Construction for Developers/sit...            0.064904   \n",
      "2                           (Support Desktop/support)            0.162947   \n",
      "3                                       (isapi/isapi)            0.136075   \n",
      "4                         (Free Downloads/msdownload)            0.162947   \n",
      "..                                                ...                 ...   \n",
      "65       (isapi/isapi, Windows Family of OSs/windows)            0.027209   \n",
      "66  (Free Downloads/msdownload, Windows Family of ...            0.046072   \n",
      "67           (Free Downloads/msdownload, isapi/isapi)            0.032834   \n",
      "68  (Free Downloads/msdownload, Windows95 Support/...            0.045002   \n",
      "69  (Free Downloads/msdownload, isapi/isapi, Windo...            0.054754   \n",
      "\n",
      "    consequent support   support  confidence       lift  leverage  conviction  \\\n",
      "0             0.064904  0.035310    0.358696   5.526583  0.028921    1.458116   \n",
      "1             0.098441  0.035310    0.544041   5.526583  0.028921    1.977283   \n",
      "2             0.136075  0.059431    0.364728   2.680353  0.037258    1.359930   \n",
      "3             0.162947  0.059431    0.436756   2.680353  0.037258    1.486128   \n",
      "4             0.331244  0.073066    0.448405   1.353700  0.019091    1.212404   \n",
      "..                 ...       ...         ...        ...       ...         ...   \n",
      "65            0.045002  0.020361    0.748315  16.628649  0.019136    3.794414   \n",
      "66            0.077927  0.020361    0.441938   5.671157  0.016771    1.652275   \n",
      "67            0.073066  0.020361    0.620112   8.486969  0.017962    2.440017   \n",
      "68            0.027209  0.020361    0.452446  16.628649  0.019136    1.776611   \n",
      "69            0.030266  0.020361    0.371859  12.286381  0.018704    1.543817   \n",
      "\n",
      "    zhangs_metric  \n",
      "0        0.908489  \n",
      "1        0.875906  \n",
      "2        0.748955  \n",
      "3        0.725659  \n",
      "4        0.312147  \n",
      "..            ...  \n",
      "65       0.966151  \n",
      "66       0.863450  \n",
      "67       0.912121  \n",
      "68       0.984151  \n",
      "69       0.971820  \n",
      "\n",
      "[70 rows x 10 columns]\n"
     ]
    }
   ],
   "source": [
    "rules = association_rules(frequent_itemsets, metric=\"confidence\", min_threshold=0.35)\n",
    "print(pd.DataFrame(rules))"
   ]
  },
  {
   "attachments": {},
   "cell_type": "markdown",
   "metadata": {},
   "source": [
    "根据计算得到的置信度等信息，网站可以以上面两个网站之间的关联性构建导航结构，根据用户已经访问过的网站情况，从关联数据中提取找到可能会访问的下一个网站，为用户节省搜索时间。"
   ]
  },
  {
   "cell_type": "code",
   "execution_count": 28,
   "metadata": {},
   "outputs": [],
   "source": [
    "pd.DataFrame(rules).to_csv('rules.csv')"
   ]
  }
 ],
 "metadata": {
  "kernelspec": {
   "display_name": "base",
   "language": "python",
   "name": "python3"
  },
  "language_info": {
   "codemirror_mode": {
    "name": "ipython",
    "version": 3
   },
   "file_extension": ".py",
   "mimetype": "text/x-python",
   "name": "python",
   "nbconvert_exporter": "python",
   "pygments_lexer": "ipython3",
   "version": "3.9.13"
  },
  "orig_nbformat": 4
 },
 "nbformat": 4,
 "nbformat_minor": 2
}
